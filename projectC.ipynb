{
 "cells": [
  {
   "cell_type": "code",
   "execution_count": 12,
   "id": "2c0f5105",
   "metadata": {},
   "outputs": [
    {
     "data": {
      "text/plain": [
       "age                         0\n",
       "gender                      0\n",
       "height_cm                   0\n",
       "weight_kg                   0\n",
       "body_fat_%                  0\n",
       "diastolic                   8\n",
       "systolic                   10\n",
       "gripForce                  12\n",
       "sit_and_bend_forward_cm     6\n",
       "sit_ups_counts              0\n",
       "broad_jump_cm              18\n",
       "class                      13\n",
       "dtype: int64"
      ]
     },
     "execution_count": 12,
     "metadata": {},
     "output_type": "execute_result"
    }
   ],
   "source": [
    "# fill body_fat% column by using fillna function\n",
    "clean_bodyfat_column=df[\"body_fat_%\"].mean()\n",
    "df[\"body_fat_%\"].fillna(clean_bodyfat_column,inplace=True)\n",
    "df.isna().sum()"
   ]
  },
  {
   "cell_type": "code",
   "execution_count": 13,
   "id": "f86da526",
   "metadata": {},
   "outputs": [
    {
     "data": {
      "text/plain": [
       "age                         0\n",
       "gender                      0\n",
       "height_cm                   0\n",
       "weight_kg                   0\n",
       "body_fat_%                  0\n",
       "diastolic                   0\n",
       "systolic                   10\n",
       "gripForce                  12\n",
       "sit_and_bend_forward_cm     6\n",
       "sit_ups_counts              0\n",
       "broad_jump_cm              18\n",
       "class                      13\n",
       "dtype: int64"
      ]
     },
     "execution_count": 13,
     "metadata": {},
     "output_type": "execute_result"
    }
   ],
   "source": [
    "# fill diastolic column by using fillna function\n",
    "clean_diastolic_column=df[\"diastolic\"].mean()\n",
    "df[\"diastolic\"].fillna(clean_diastolic_column,inplace=True)\n",
    "df.isna().sum()"
   ]
  },
  {
   "cell_type": "code",
   "execution_count": 14,
   "id": "b3a6dd6d",
   "metadata": {},
   "outputs": [
    {
     "data": {
      "text/plain": [
       "age                         0\n",
       "gender                      0\n",
       "height_cm                   0\n",
       "weight_kg                   0\n",
       "body_fat_%                  0\n",
       "diastolic                   0\n",
       "systolic                    0\n",
       "gripForce                  12\n",
       "sit_and_bend_forward_cm     6\n",
       "sit_ups_counts              0\n",
       "broad_jump_cm              18\n",
       "class                      13\n",
       "dtype: int64"
      ]
     },
     "execution_count": 14,
     "metadata": {},
     "output_type": "execute_result"
    }
   ],
   "source": [
    "# fill systolic column by using fillna function\n",
    "clean_systolic_column=df[\"systolic\"].mean()\n",
    "df[\"systolic\"].fillna(clean_systolic_column,inplace=True)\n",
    "df.isna().sum()"
   ]
  },
  {
   "cell_type": "code",
   "execution_count": 15,
   "id": "9263c1c6",
   "metadata": {},
   "outputs": [
    {
     "data": {
      "text/plain": [
       "age                         0\n",
       "gender                      0\n",
       "height_cm                   0\n",
       "weight_kg                   0\n",
       "body_fat_%                  0\n",
       "diastolic                   0\n",
       "systolic                    0\n",
       "gripForce                   0\n",
       "sit_and_bend_forward_cm     6\n",
       "sit_ups_counts              0\n",
       "broad_jump_cm              18\n",
       "class                      13\n",
       "dtype: int64"
      ]
     },
     "execution_count": 15,
     "metadata": {},
     "output_type": "execute_result"
    }
   ],
   "source": [
    "# fill gripForce column by using fillna function\n",
    "clean_gripForce_column=df[\"gripForce\"].mean()\n",
    "df[\"gripForce\"].fillna(clean_gripForce_column,inplace=True)\n",
    "df.isna().sum()"
   ]
  },
  {
   "cell_type": "code",
   "execution_count": 16,
   "id": "3febb0bc",
   "metadata": {},
   "outputs": [
    {
     "data": {
      "text/plain": [
       "age                         0\n",
       "gender                      0\n",
       "height_cm                   0\n",
       "weight_kg                   0\n",
       "body_fat_%                  0\n",
       "diastolic                   0\n",
       "systolic                    0\n",
       "gripForce                   0\n",
       "sit_and_bend_forward_cm     0\n",
       "sit_ups_counts              0\n",
       "broad_jump_cm              18\n",
       "class                      13\n",
       "dtype: int64"
      ]
     },
     "execution_count": 16,
     "metadata": {},
     "output_type": "execute_result"
    }
   ],
   "source": [
    "# fill sit_and_bend_forward_cm column by using fillna function\n",
    "clean_sitandbendforward_cm_column=df[\"sit_and_bend_forward_cm\"].mean()\n",
    "df[\"sit_and_bend_forward_cm\"].fillna(clean_sitandbendforward_cm_column,inplace=True)\n",
    "df.isna().sum()"
   ]
  },
  {
   "cell_type": "code",
   "execution_count": 17,
   "id": "a4817002",
   "metadata": {},
   "outputs": [
    {
     "data": {
      "text/plain": [
       "age                         0\n",
       "gender                      0\n",
       "height_cm                   0\n",
       "weight_kg                   0\n",
       "body_fat_%                  0\n",
       "diastolic                   0\n",
       "systolic                    0\n",
       "gripForce                   0\n",
       "sit_and_bend_forward_cm     0\n",
       "sit_ups_counts              0\n",
       "broad_jump_cm              18\n",
       "class                      13\n",
       "dtype: int64"
      ]
     },
     "execution_count": 17,
     "metadata": {},
     "output_type": "execute_result"
    }
   ],
   "source": [
    "# fill sit_ups_counts column by using fillna function\n",
    "clean_sit_upscounts_column=df[\"sit_ups_counts\"].mean()\n",
    "df[\"sit_ups_counts\"].fillna(clean_sit_upscounts_column,inplace=True)\n",
    "df.isna().sum()"
   ]
  },
  {
   "cell_type": "code",
   "execution_count": 18,
   "id": "510cfd3f",
   "metadata": {},
   "outputs": [
    {
     "data": {
      "text/plain": [
       "age                         0\n",
       "gender                      0\n",
       "height_cm                   0\n",
       "weight_kg                   0\n",
       "body_fat_%                  0\n",
       "diastolic                   0\n",
       "systolic                    0\n",
       "gripForce                   0\n",
       "sit_and_bend_forward_cm     0\n",
       "sit_ups_counts              0\n",
       "broad_jump_cm               0\n",
       "class                      13\n",
       "dtype: int64"
      ]
     },
     "execution_count": 18,
     "metadata": {},
     "output_type": "execute_result"
    }
   ],
   "source": [
    "# fill broad_jump_cm column by using fillna function\n",
    "clean_broadjump_cm_column=df[\"broad_jump_cm\"].mean()\n",
    "df[\"broad_jump_cm\"].fillna(clean_broadjump_cm_column,inplace=True)\n",
    "df.isna().sum()"
   ]
  },
  {
   "cell_type": "code",
   "execution_count": 19,
   "id": "a68a8c09",
   "metadata": {
    "scrolled": true
   },
   "outputs": [
    {
     "data": {
      "text/plain": [
       "age                        0\n",
       "gender                     0\n",
       "height_cm                  0\n",
       "weight_kg                  0\n",
       "body_fat_%                 0\n",
       "diastolic                  0\n",
       "systolic                   0\n",
       "gripForce                  0\n",
       "sit_and_bend_forward_cm    0\n",
       "sit_ups_counts             0\n",
       "broad_jump_cm              0\n",
       "class                      0\n",
       "dtype: int64"
      ]
     },
     "execution_count": 19,
     "metadata": {},
     "output_type": "execute_result"
    }
   ],
   "source": [
    "# fill class column by using fillna function\n",
    "clean_class_column=df[\"class\"].fillna(\"no class\",inplace=True)\n",
    "df.isna().sum()"
   ]
  },
  {
   "cell_type": "code",
   "execution_count": 20,
   "id": "b703c040-8fe9-4e24-9c5b-8373370a0986",
   "metadata": {},
   "outputs": [
    {
     "name": "stdout",
     "output_type": "stream",
     "text": [
      "0        False\n",
      "1        False\n",
      "2        False\n",
      "3        False\n",
      "4        False\n",
      "         ...  \n",
      "13388    False\n",
      "13389    False\n",
      "13390    False\n",
      "13391    False\n",
      "13392    False\n",
      "Length: 13392, dtype: bool\n",
      "0        False\n",
      "1        False\n",
      "2        False\n",
      "3        False\n",
      "4        False\n",
      "         ...  \n",
      "13388    False\n",
      "13389    False\n",
      "13390    False\n",
      "13391    False\n",
      "13392    False\n",
      "Length: 13392, dtype: bool\n",
      "0        False\n",
      "1        False\n",
      "2        False\n",
      "3        False\n",
      "4        False\n",
      "         ...  \n",
      "13388    False\n",
      "13389    False\n",
      "13390    False\n",
      "13391    False\n",
      "13392    False\n",
      "Length: 13392, dtype: bool\n",
      "0        False\n",
      "1        False\n",
      "2        False\n",
      "3        False\n",
      "4        False\n",
      "         ...  \n",
      "13388    False\n",
      "13389    False\n",
      "13390    False\n",
      "13391    False\n",
      "13392    False\n",
      "Length: 13392, dtype: bool\n",
      "0        False\n",
      "1        False\n",
      "2        False\n",
      "3        False\n",
      "4        False\n",
      "         ...  \n",
      "13388    False\n",
      "13389    False\n",
      "13390    False\n",
      "13391    False\n",
      "13392    False\n",
      "Length: 13392, dtype: bool\n",
      "0        False\n",
      "1        False\n",
      "2        False\n",
      "3        False\n",
      "4        False\n",
      "         ...  \n",
      "13388    False\n",
      "13389    False\n",
      "13390    False\n",
      "13391    False\n",
      "13392    False\n",
      "Length: 13392, dtype: bool\n",
      "0        False\n",
      "1        False\n",
      "2        False\n",
      "3        False\n",
      "4        False\n",
      "         ...  \n",
      "13388    False\n",
      "13389    False\n",
      "13390    False\n",
      "13391    False\n",
      "13392    False\n",
      "Length: 13392, dtype: bool\n",
      "0        False\n",
      "1        False\n",
      "2        False\n",
      "3        False\n",
      "4        False\n",
      "         ...  \n",
      "13388    False\n",
      "13389    False\n",
      "13390    False\n",
      "13391    False\n",
      "13392    False\n",
      "Length: 13392, dtype: bool\n",
      "0        False\n",
      "1        False\n",
      "2        False\n",
      "3        False\n",
      "4        False\n",
      "         ...  \n",
      "13388    False\n",
      "13389    False\n",
      "13390    False\n",
      "13391    False\n",
      "13392    False\n",
      "Length: 13392, dtype: bool\n",
      "0        False\n",
      "1        False\n",
      "2        False\n",
      "3        False\n",
      "4        False\n",
      "         ...  \n",
      "13388    False\n",
      "13389    False\n",
      "13390    False\n",
      "13391    False\n",
      "13392    False\n",
      "Length: 13392, dtype: bool\n",
      "0        False\n",
      "1        False\n",
      "2        False\n",
      "3        False\n",
      "4        False\n",
      "         ...  \n",
      "13388    False\n",
      "13389    False\n",
      "13390    False\n",
      "13391    False\n",
      "13392    False\n",
      "Length: 13392, dtype: bool\n",
      "0        False\n",
      "1        False\n",
      "2        False\n",
      "3        False\n",
      "4        False\n",
      "         ...  \n",
      "13388    False\n",
      "13389    False\n",
      "13390    False\n",
      "13391    False\n",
      "13392    False\n",
      "Length: 13392, dtype: bool\n"
     ]
    }
   ],
   "source": [
    "#discover duplicated data and remove it\n",
    "for i in df:\n",
    "    if df.duplicated:\n",
    "        df.drop_duplicates(inplace=True)\n",
    "        print(df.duplicated())"
   ]
  },
  {
   "cell_type": "markdown",
   "id": "d30c8e38",
   "metadata": {},
   "source": [
    " "
   ]
  },
  {
   "cell_type": "code",
   "execution_count": 21,
   "id": "5dfde8db",
   "metadata": {},
   "outputs": [
    {
     "name": "stdout",
     "output_type": "stream",
     "text": [
      "<class 'pandas.core.frame.DataFrame'>\n",
      "Index: 13392 entries, 0 to 13392\n",
      "Data columns (total 12 columns):\n",
      " #   Column                   Non-Null Count  Dtype  \n",
      "---  ------                   --------------  -----  \n",
      " 0   age                      13392 non-null  float64\n",
      " 1   gender                   13392 non-null  object \n",
      " 2   height_cm                13392 non-null  float64\n",
      " 3   weight_kg                13392 non-null  float64\n",
      " 4   body_fat_%               13392 non-null  float64\n",
      " 5   diastolic                13392 non-null  float64\n",
      " 6   systolic                 13392 non-null  float64\n",
      " 7   gripForce                13392 non-null  float64\n",
      " 8   sit_and_bend_forward_cm  13392 non-null  float64\n",
      " 9   sit_ups_counts           13392 non-null  float64\n",
      " 10  broad_jump_cm            13392 non-null  float64\n",
      " 11  class                    13392 non-null  object \n",
      "dtypes: float64(10), object(2)\n",
      "memory usage: 1.3+ MB\n"
     ]
    }
   ],
   "source": [
    "# number of rows\n",
    "f\"number of row before remove duplicated : {df.shape[0]}\"\n",
    "df.info()"
   ]
  }
 ],
 "metadata": {
  "kernelspec": {
   "display_name": "Python 3 (ipykernel)",
   "language": "python",
   "name": "python3"
  },
  "language_info": {
   "codemirror_mode": {
    "name": "ipython",
    "version": 3
   },
   "file_extension": ".py",
   "mimetype": "text/x-python",
   "name": "python",
   "nbconvert_exporter": "python",
   "pygments_lexer": "ipython3",
   "version": "3.11.5"
  }
 },
 "nbformat": 4,
 "nbformat_minor": 5
}
